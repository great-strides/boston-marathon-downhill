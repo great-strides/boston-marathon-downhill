{
 "cells": [
  {
   "cell_type": "code",
   "execution_count": 86,
   "id": "efc611df",
   "metadata": {},
   "outputs": [],
   "source": [
    "import pandas as pd\n",
    "import os\n",
    "import json\n",
    "import glob\n",
    "\n",
    "fields = pd.read_json('raw/fields-2012_2025.json')\n",
    "standards = pd.read_json('raw/standards-2020_2025.json')\n",
    "downhill_marathons = pd.read_csv('raw/downhill-marathons.csv')"
   ]
  },
  {
   "cell_type": "code",
   "execution_count": 87,
   "id": "8ab3a1e9",
   "metadata": {},
   "outputs": [],
   "source": [
    "athlinks_slugs = ['tucson-marathon', 'sundance-to-spearfish', 'pocatello', 'leading-ladies', 'jack-and-kills', 'hawaii-bird-conservation']\n",
    "raceentry_slugs = ['utah-valley-marathon']\n",
    "ultrasignup_slugs = ['tunnel-vision', 'tunnel-light', 'light-at-the-end-of-the-tunnel']\n",
    "chronokeep_slugs = ['super', 'cascade-express']\n",
    "webscorer_slugs = ['sun', 'east-canyon']\n",
    "runsignup_slugs = ['runtastic-nebo']\n",
    "brooksee_slugs = ['revel-white-mountains', 'revel-mt-charleston', 'revel-big-bear', 'revel-big-cottonwood', 'deseret-news', 'bears-ears']\n",
    "\n",
    "race_slugs = {\n",
    "    'athlinks': athlinks_slugs,\n",
    "    'raceentry': raceentry_slugs,\n",
    "    'ultrasignup': ultrasignup_slugs,\n",
    "    'chronokeep': chronokeep_slugs,\n",
    "    'webscorer': webscorer_slugs,\n",
    "    'runsignup': runsignup_slugs,\n",
    "    'brooksee': brooksee_slugs\n",
    "}"
   ]
  },
  {
   "cell_type": "code",
   "execution_count": 88,
   "id": "97d8f77e",
   "metadata": {},
   "outputs": [],
   "source": [
    "def conv_formatted_time_to_millis(formatted_time: str):\n",
    "    \"\"\"Convert a formatted time string to milliseconds.\"\"\"\n",
    "    if formatted_time == 'DNF' or formatted_time == '---' or pd.isna(formatted_time):\n",
    "        return None\n",
    "    parts = formatted_time.split(':')\n",
    "    if len(parts) == 3:  # HH:MM:SS\n",
    "        hours, minutes, seconds = map(float, parts)\n",
    "        return (hours * 3600 + minutes * 60 + seconds) * 1000\n",
    "    elif len(parts) == 2:  # MM:SS\n",
    "        minutes, seconds = map(float, parts)\n",
    "        return (minutes * 60 + seconds) * 1000\n",
    "    else:\n",
    "        raise ValueError(f'Invalid time format: {formatted_time}')"
   ]
  },
  {
   "cell_type": "code",
   "execution_count": null,
   "id": "c2d1b7da",
   "metadata": {},
   "outputs": [
    {
     "name": "stdout",
     "output_type": "stream",
     "text": [
      "raw/marathons/tucson-marathon-2023-12-10.json\n",
      "raw/marathons/tucson-marathon-2021-12-04.json\n",
      "raw/marathons/tucson-marathon-2022-12-10.json\n",
      "raw/marathons/sundance-to-spearfish-2022-09-11.json\n",
      "raw/marathons/sundance-to-spearfish-2024-09-08.json\n",
      "raw/marathons/sundance-to-spearfish-2023-09-10.json\n",
      "raw/marathons/pocatello-2024-08-31.json\n",
      "raw/marathons/pocatello-2022-09-03.json\n",
      "raw/marathons/pocatello-2021-09-04.json\n",
      "raw/marathons/pocatello-2023-09-02.json\n",
      "raw/marathons/leading-ladies-2023-08-20.json\n",
      "raw/marathons/leading-ladies-2024-08-18.json\n",
      "raw/marathons/leading-ladies-2022-08-21.json\n",
      "raw/marathons/hawaii-bird-conservation-2021-12-19.json\n",
      "raw/marathons/hawaii-bird-conservation-2023-12-17.json\n",
      "raw/marathons/hawaii-bird-conservation-2022-12-18.json\n",
      "raw/marathons/utah-valley-marathon-2023-06-03.csv\n",
      "raw/marathons/utah-valley-marathon-2024-06-01.csv\n",
      "raw/marathons/utah-valley-marathon-2022-06-04.csv\n",
      "raw/marathons/tunnel-vision-2022-08-14.csv\n",
      "raw/marathons/tunnel-vision-2024-08-11.csv\n",
      "raw/marathons/tunnel-vision-2023-08-13.csv\n",
      "raw/marathons/tunnel-light-2024-09-08.csv\n",
      "raw/marathons/tunnel-light-2022-09-18.csv\n",
      "raw/marathons/tunnel-light-2023-09-10.csv\n",
      "raw/marathons/light-at-the-end-of-the-tunnel-2022-06-12.csv\n",
      "raw/marathons/light-at-the-end-of-the-tunnel-2023-06-11.csv\n",
      "raw/marathons/light-at-the-end-of-the-tunnel-2024-06-09.csv\n",
      "raw/marathons/super-2024-06-22.csv\n",
      "raw/marathons/super-2022-06-26.csv\n"
     ]
    },
    {
     "ename": "KeyError",
     "evalue": "\"None of [Index(['Age', 'Gender', 'Chip Time*'], dtype='object')] are in the [columns]\"",
     "output_type": "error",
     "traceback": [
      "\u001b[31m---------------------------------------------------------------------------\u001b[39m",
      "\u001b[31mKeyError\u001b[39m                                  Traceback (most recent call last)",
      "\u001b[36mCell\u001b[39m\u001b[36m \u001b[39m\u001b[32mIn[90]\u001b[39m\u001b[32m, line 24\u001b[39m\n\u001b[32m     22\u001b[39m \u001b[38;5;28;01melif\u001b[39;00m provider == \u001b[33m'\u001b[39m\u001b[33mchronokeep\u001b[39m\u001b[33m'\u001b[39m:\n\u001b[32m     23\u001b[39m     temp_df = pd.read_csv(file_path)\n\u001b[32m---> \u001b[39m\u001b[32m24\u001b[39m     temp_df = \u001b[43mtemp_df\u001b[49m\u001b[43m[\u001b[49m\u001b[43m[\u001b[49m\u001b[33;43m'\u001b[39;49m\u001b[33;43mAge\u001b[39;49m\u001b[33;43m'\u001b[39;49m\u001b[43m,\u001b[49m\u001b[43m \u001b[49m\u001b[33;43m'\u001b[39;49m\u001b[33;43mGender\u001b[39;49m\u001b[33;43m'\u001b[39;49m\u001b[43m,\u001b[49m\u001b[43m \u001b[49m\u001b[33;43m'\u001b[39;49m\u001b[33;43mChip Time*\u001b[39;49m\u001b[33;43m'\u001b[39;49m\u001b[43m]\u001b[49m\u001b[43m]\u001b[49m\n\u001b[32m     25\u001b[39m     temp_df[\u001b[33m'\u001b[39m\u001b[33mChip Time*\u001b[39m\u001b[33m'\u001b[39m] = temp_df[\u001b[33m'\u001b[39m\u001b[33mChip Time*\u001b[39m\u001b[33m'\u001b[39m].apply(conv_formatted_time_to_millis)\n\u001b[32m     26\u001b[39m \u001b[38;5;28;01melif\u001b[39;00m provider == \u001b[33m'\u001b[39m\u001b[33mwebscorer\u001b[39m\u001b[33m'\u001b[39m:\n",
      "\u001b[36mFile \u001b[39m\u001b[32m/usr/local/lib/python3.11/site-packages/pandas/core/frame.py:3813\u001b[39m, in \u001b[36mDataFrame.__getitem__\u001b[39m\u001b[34m(self, key)\u001b[39m\n\u001b[32m   3811\u001b[39m     \u001b[38;5;28;01mif\u001b[39;00m is_iterator(key):\n\u001b[32m   3812\u001b[39m         key = \u001b[38;5;28mlist\u001b[39m(key)\n\u001b[32m-> \u001b[39m\u001b[32m3813\u001b[39m     indexer = \u001b[38;5;28;43mself\u001b[39;49m\u001b[43m.\u001b[49m\u001b[43mcolumns\u001b[49m\u001b[43m.\u001b[49m\u001b[43m_get_indexer_strict\u001b[49m\u001b[43m(\u001b[49m\u001b[43mkey\u001b[49m\u001b[43m,\u001b[49m\u001b[43m \u001b[49m\u001b[33;43m\"\u001b[39;49m\u001b[33;43mcolumns\u001b[39;49m\u001b[33;43m\"\u001b[39;49m\u001b[43m)\u001b[49m[\u001b[32m1\u001b[39m]\n\u001b[32m   3815\u001b[39m \u001b[38;5;66;03m# take() does not accept boolean indexers\u001b[39;00m\n\u001b[32m   3816\u001b[39m \u001b[38;5;28;01mif\u001b[39;00m \u001b[38;5;28mgetattr\u001b[39m(indexer, \u001b[33m\"\u001b[39m\u001b[33mdtype\u001b[39m\u001b[33m\"\u001b[39m, \u001b[38;5;28;01mNone\u001b[39;00m) == \u001b[38;5;28mbool\u001b[39m:\n",
      "\u001b[36mFile \u001b[39m\u001b[32m/usr/local/lib/python3.11/site-packages/pandas/core/indexes/base.py:6070\u001b[39m, in \u001b[36mIndex._get_indexer_strict\u001b[39m\u001b[34m(self, key, axis_name)\u001b[39m\n\u001b[32m   6067\u001b[39m \u001b[38;5;28;01melse\u001b[39;00m:\n\u001b[32m   6068\u001b[39m     keyarr, indexer, new_indexer = \u001b[38;5;28mself\u001b[39m._reindex_non_unique(keyarr)\n\u001b[32m-> \u001b[39m\u001b[32m6070\u001b[39m \u001b[38;5;28;43mself\u001b[39;49m\u001b[43m.\u001b[49m\u001b[43m_raise_if_missing\u001b[49m\u001b[43m(\u001b[49m\u001b[43mkeyarr\u001b[49m\u001b[43m,\u001b[49m\u001b[43m \u001b[49m\u001b[43mindexer\u001b[49m\u001b[43m,\u001b[49m\u001b[43m \u001b[49m\u001b[43maxis_name\u001b[49m\u001b[43m)\u001b[49m\n\u001b[32m   6072\u001b[39m keyarr = \u001b[38;5;28mself\u001b[39m.take(indexer)\n\u001b[32m   6073\u001b[39m \u001b[38;5;28;01mif\u001b[39;00m \u001b[38;5;28misinstance\u001b[39m(key, Index):\n\u001b[32m   6074\u001b[39m     \u001b[38;5;66;03m# GH 42790 - Preserve name from an Index\u001b[39;00m\n",
      "\u001b[36mFile \u001b[39m\u001b[32m/usr/local/lib/python3.11/site-packages/pandas/core/indexes/base.py:6130\u001b[39m, in \u001b[36mIndex._raise_if_missing\u001b[39m\u001b[34m(self, key, indexer, axis_name)\u001b[39m\n\u001b[32m   6128\u001b[39m     \u001b[38;5;28;01mif\u001b[39;00m use_interval_msg:\n\u001b[32m   6129\u001b[39m         key = \u001b[38;5;28mlist\u001b[39m(key)\n\u001b[32m-> \u001b[39m\u001b[32m6130\u001b[39m     \u001b[38;5;28;01mraise\u001b[39;00m \u001b[38;5;167;01mKeyError\u001b[39;00m(\u001b[33mf\u001b[39m\u001b[33m\"\u001b[39m\u001b[33mNone of [\u001b[39m\u001b[38;5;132;01m{\u001b[39;00mkey\u001b[38;5;132;01m}\u001b[39;00m\u001b[33m] are in the [\u001b[39m\u001b[38;5;132;01m{\u001b[39;00maxis_name\u001b[38;5;132;01m}\u001b[39;00m\u001b[33m]\u001b[39m\u001b[33m\"\u001b[39m)\n\u001b[32m   6132\u001b[39m not_found = \u001b[38;5;28mlist\u001b[39m(ensure_index(key)[missing_mask.nonzero()[\u001b[32m0\u001b[39m]].unique())\n\u001b[32m   6133\u001b[39m \u001b[38;5;28;01mraise\u001b[39;00m \u001b[38;5;167;01mKeyError\u001b[39;00m(\u001b[33mf\u001b[39m\u001b[33m\"\u001b[39m\u001b[38;5;132;01m{\u001b[39;00mnot_found\u001b[38;5;132;01m}\u001b[39;00m\u001b[33m not in index\u001b[39m\u001b[33m\"\u001b[39m)\n",
      "\u001b[31mKeyError\u001b[39m: \"None of [Index(['Age', 'Gender', 'Chip Time*'], dtype='object')] are in the [columns]\""
     ]
    }
   ],
   "source": [
    "results_df = pd.DataFrame(columns=['slug', 'date', 'time', 'gender', 'age'])\n",
    "\n",
    "for provider in race_slugs:\n",
    "    for race_slug in race_slugs[provider]:\n",
    "        file_paths = glob.glob(f'raw/marathons/{race_slug}-*.{\"json\" if provider == \"athlinks\" else \"csv\"}')\n",
    "\n",
    "        for file_path in file_paths:\n",
    "            print(file_path)\n",
    "            date = '-'.join(os.path.basename(file_path).split('-')[-3:]).split('.')[0]\n",
    "            if provider == 'athlinks':\n",
    "                with open(file_path, 'r') as file:\n",
    "                    data = json.load(file)\n",
    "                results = data['intervals'][0]['results']\n",
    "                temp_df = pd.DataFrame(results)\n",
    "                temp_df = temp_df[['age', 'gender', 'chipTimeInMillis']]\n",
    "            elif provider == 'raceentry' or provider == 'runsignup' or provider == 'brooksee':\n",
    "                temp_df = pd.read_csv(file_path)\n",
    "                temp_df = temp_df[['Age', 'Gender', 'Chip Time']]\n",
    "                temp_df['Chip Time'] = temp_df['Chip Time'].apply(conv_formatted_time_to_millis)\n",
    "            elif provider == 'ultrasignup' or (race_slug == 'super' and date.startswith('2022')) or (race_slug == 'cascade-express' and date.startswith('2024')):\n",
    "                temp_df = pd.read_csv(file_path)\n",
    "                temp_df = temp_df[['age', 'gender', 'time_millis']]\n",
    "            elif provider == 'chronokeep':\n",
    "                temp_df = pd.read_csv(file_path)\n",
    "                temp_df = temp_df[['Age', 'Gender', 'Chip Time*']]\n",
    "                temp_df['Chip Time*'] = temp_df['Chip Time*'].apply(conv_formatted_time_to_millis)\n",
    "            elif provider == 'webscorer':\n",
    "                temp_df = pd.read_csv(file_path)\n",
    "                temp_df = temp_df[['Age', 'Gender', 'Finish time \t\t\tChip time']]\n",
    "                temp_df['Finish time \t\t\tChip time'] = temp_df['Finish time \t\t\tChip time'].apply(conv_formatted_time_to_millis)\n",
    "            else:\n",
    "                continue\n",
    "\n",
    "            temp_df.columns = ['age', 'gender', 'time']\n",
    "            temp_df['slug'] = race_slug\n",
    "            temp_df['date'] = '-'.join(os.path.basename(file_path).split('-')[-3:]).split('.')[0]\n",
    "            results_df = pd.concat([results_df, temp_df])\n",
    "\n",
    "results_df"
   ]
  },
  {
   "cell_type": "code",
   "execution_count": 82,
   "id": "d1efbcc5",
   "metadata": {},
   "outputs": [],
   "source": [
    "fields['\"CUT-OFF TIME\"*'] = pd.to_timedelta('00:0' + fields['\"CUT-OFF TIME\"*'])\n",
    "fields[['QUALIFIERS NOT ACCEPTED', 'FIELD SIZE']] = fields[['QUALIFIERS NOT ACCEPTED', 'FIELD SIZE']].apply(lambda col: col.str.replace(',', '').astype(int))"
   ]
  },
  {
   "cell_type": "code",
   "execution_count": 83,
   "id": "c72966ac",
   "metadata": {},
   "outputs": [],
   "source": [
    "standards[['MEN', 'WOMEN']] = standards[['MEN', 'WOMEN']].apply(lambda col: pd.to_timedelta(col.str.replace('hrs', 'hr')))"
   ]
  },
  {
   "cell_type": "code",
   "execution_count": 84,
   "id": "00d205db",
   "metadata": {},
   "outputs": [],
   "source": [
    "downhill_marathons['Net Downhill'] = downhill_marathons['Net Downhill'].str.replace(',', '').astype(int)\n",
    "downhill_marathons['Category'] = downhill_marathons['Net Downhill'].apply(lambda x: '3,000-5,999' if 3000 <= x < 6000 else '1,500-2,999')"
   ]
  },
  {
   "cell_type": "code",
   "execution_count": 77,
   "id": "45b992f7",
   "metadata": {},
   "outputs": [],
   "source": [
    "fields_to_save = fields.copy()\n",
    "fields_to_save['\"CUT-OFF TIME\"*'] = fields_to_save['\"CUT-OFF TIME\"*'].apply(lambda x: x.seconds)\n",
    "fields_to_save.columns = ['Year', 'Field Size', 'Cutoff Time (s)', 'Qualifiers Not Accepted']\n",
    "fields_to_save.to_csv('data/fields.csv', index=False)\n",
    "\n",
    "standards_to_save = standards.copy()\n",
    "standards_to_save[['MEN', 'WOMEN']] = standards_to_save[['MEN', 'WOMEN']].apply(lambda col: col.astype('str').apply(lambda x: x.split(' ')[2][1:]))\n",
    "standards_to_save.columns = ['Age Group', 'Men', 'Women']\n",
    "standards_to_save.to_csv('data/standards.csv', index=False)\n",
    "\n",
    "downhill_marathons_to_save = downhill_marathons.copy()\n",
    "downhill_marathons_to_save.sort_values(by='Net Downhill', ascending=False, inplace=True)\n",
    "downhill_marathons_to_save.columns = ['Name', 'Net Downhill (ft)', 'Year Established', 'Location', 'Category']\n",
    "downhill_marathons_to_save.to_csv('data/downhill-marathons.csv', index=False)"
   ]
  }
 ],
 "metadata": {
  "kernelspec": {
   "display_name": "Python 3",
   "language": "python",
   "name": "python3"
  },
  "language_info": {
   "codemirror_mode": {
    "name": "ipython",
    "version": 3
   },
   "file_extension": ".py",
   "mimetype": "text/x-python",
   "name": "python",
   "nbconvert_exporter": "python",
   "pygments_lexer": "ipython3",
   "version": "3.11.5"
  }
 },
 "nbformat": 4,
 "nbformat_minor": 5
}
