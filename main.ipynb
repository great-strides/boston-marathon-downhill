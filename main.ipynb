{
 "cells": [
  {
   "cell_type": "code",
   "execution_count": 5,
   "id": "efc611df",
   "metadata": {},
   "outputs": [],
   "source": [
    "import pandas as pd\n",
    "import os\n",
    "import json\n",
    "import glob\n",
    "import re\n",
    "\n",
    "fields = pd.read_json('raw/fields-2012_2025.json')\n",
    "standards = pd.read_json('raw/standards-2020_2025.json')\n",
    "downhill_marathons = pd.read_csv('raw/downhill-marathons.csv')"
   ]
  },
  {
   "cell_type": "code",
   "execution_count": 6,
   "id": "8ab3a1e9",
   "metadata": {},
   "outputs": [],
   "source": [
    "athlinks_slugs = ['tucson-marathon', 'sundance-to-spearfish', 'pocatello', 'leading-ladies', 'jack-and-kills', 'hawaii-bird-conservation']\n",
    "raceentry_slugs = ['utah-valley-marathon']\n",
    "ultrasignup_slugs = ['tunnel-vision', 'tunnel-light', 'light-at-the-end-of-the-tunnel']\n",
    "chronokeep_slugs = ['super', 'cascade-express']\n",
    "webscorer_slugs = ['sun', 'east-canyon']\n",
    "runsignup_slugs = ['runtastic-nebo']\n",
    "brooksee_slugs = ['revel-white-mountains', 'revel-mt-charleston', 'revel-big-bear', 'revel-big-cottonwood', 'deseret-news', 'bears-ears']\n",
    "\n",
    "race_slugs = {\n",
    "    'athlinks': athlinks_slugs,\n",
    "    'raceentry': raceentry_slugs,\n",
    "    'ultrasignup': ultrasignup_slugs,\n",
    "    'chronokeep': chronokeep_slugs,\n",
    "    'webscorer': webscorer_slugs,\n",
    "    'runsignup': runsignup_slugs,\n",
    "    'brooksee': brooksee_slugs\n",
    "}"
   ]
  },
  {
   "cell_type": "code",
   "execution_count": 7,
   "id": "97d8f77e",
   "metadata": {},
   "outputs": [],
   "source": [
    "def conv_formatted_time_to_millis(formatted_time: str):\n",
    "    \"\"\"Convert a formatted time string to milliseconds.\"\"\"\n",
    "    if formatted_time == 'DNF' or formatted_time == '---' or pd.isna(formatted_time):\n",
    "        return None\n",
    "    parts = formatted_time.split(':')\n",
    "    if len(parts) == 3:  # HH:MM:SS\n",
    "        hours, minutes, seconds = map(float, parts)\n",
    "        return (hours * 3600 + minutes * 60 + seconds) * 1000\n",
    "    elif len(parts) == 2:  # MM:SS\n",
    "        minutes, seconds = map(float, parts)\n",
    "        return (minutes * 60 + seconds) * 1000\n",
    "    else:\n",
    "        raise ValueError(f'Invalid time format: {formatted_time}')"
   ]
  },
  {
   "cell_type": "code",
   "execution_count": null,
   "id": "0f10328a",
   "metadata": {},
   "outputs": [],
   "source": [
    "def split_name_affiliation(name_affiliation: str):\n",
    "    print(name_affiliation)\n",
    "    parts = re.split(r'([a-z0-9][A-Z])', name_affiliation)\n",
    "    middle_part = parts[1]\n",
    "    return [parts[0].strip() + middle_part[0], middle_part[1] + parts[2].strip()]"
   ]
  },
  {
   "cell_type": "code",
   "execution_count": 18,
   "id": "c2d1b7da",
   "metadata": {},
   "outputs": [
    {
     "name": "stdout",
     "output_type": "stream",
     "text": [
      "Drew GalahanHarlowton, MT\n",
      "Dan ShellySalt Lake City, UT\n",
      "Ashley PaulsonSaint GeorgE, UT\n",
      "Josh HowardOgden, UT\n",
      "Klark LarsenProvo, UT\n",
      "Jared BlackClearfield, UT\n",
      "Yiqiao \"\"Joey\"\" ZhaoCedar City, UT\n",
      "Samuel BishopHolladay, UT\n",
      "John BlackClearfield, UT\n",
      "Maxwell HillMoab, UT\n",
      "Logan LefevreFillmore, UT\n",
      "Brett WhiteExport, PA\n",
      "Jonathan SalinasSaint GeorgE, UT\n",
      "Mark FloresSan Dimas, CA\n",
      "Krista CaseyKaysville, UT\n",
      "Isaiah LangeEvanston, WY\n",
      "Dave HallWashington, UT\n",
      "Jarom YoungWashington, UT\n",
      "Marc NosalEden Prairie, MN\n",
      "Andreas LehmannOrem, UT\n",
      "Eliza JorgensenFarmington, UT\n",
      "Anna NelsonDraper, UT\n",
      "Terrika TurnerPayson, UT\n",
      "Dustin PoulsenProvidence, UT\n",
      "Jim BengtsonEden Prairie, MN\n",
      "Brent RoweSaint GeorgE, UT\n",
      "Kayla PerryDraper, UT\n",
      "Peter WallaceSalt Lake City, UT\n",
      "Jacob ThomasProvo, UT\n",
      "Jacob RossProvo, UT\n",
      "Sarah HeapsSpanish Fork, UT\n",
      "Devin KentCarmel, IN\n",
      "Karolina MoleWest Jordan, UT\n",
      "Jordan PoulsenOgden, UT\n",
      "Jo Whitney-Swensen2Talkeetna, AK\n"
     ]
    },
    {
     "ename": "IndexError",
     "evalue": "list index out of range",
     "output_type": "error",
     "traceback": [
      "\u001b[31m---------------------------------------------------------------------------\u001b[39m",
      "\u001b[31mIndexError\u001b[39m                                Traceback (most recent call last)",
      "\u001b[36mCell\u001b[39m\u001b[36m \u001b[39m\u001b[32mIn[18]\u001b[39m\u001b[32m, line 45\u001b[39m\n\u001b[32m     43\u001b[39m \u001b[38;5;28;01melif\u001b[39;00m provider == \u001b[33m'\u001b[39m\u001b[33mwebscorer\u001b[39m\u001b[33m'\u001b[39m:\n\u001b[32m     44\u001b[39m     temp_df = pd.read_csv(file_path)\n\u001b[32m---> \u001b[39m\u001b[32m45\u001b[39m     name_affiliations = \u001b[43mtemp_df\u001b[49m\u001b[43m[\u001b[49m\u001b[33;43m'\u001b[39;49m\u001b[33;43mName Affiliation\u001b[39;49m\u001b[33;43m'\u001b[39;49m\u001b[43m]\u001b[49m\u001b[43m.\u001b[49m\u001b[43mapply\u001b[49m\u001b[43m(\u001b[49m\u001b[43msplit_name_affiliation\u001b[49m\u001b[43m)\u001b[49m\n\u001b[32m     46\u001b[39m     \u001b[38;5;28mprint\u001b[39m(name_affiliations)\n\u001b[32m     47\u001b[39m     temp_df = temp_df[[\u001b[33m'\u001b[39m\u001b[33mAge\u001b[39m\u001b[33m'\u001b[39m, \u001b[33m'\u001b[39m\u001b[33mGender\u001b[39m\u001b[33m'\u001b[39m, \u001b[33m'\u001b[39m\u001b[33mFinish time \t\t\tChip time\u001b[39m\u001b[33m'\u001b[39m]]\n",
      "\u001b[36mFile \u001b[39m\u001b[32m/usr/local/lib/python3.11/site-packages/pandas/core/series.py:4771\u001b[39m, in \u001b[36mSeries.apply\u001b[39m\u001b[34m(self, func, convert_dtype, args, **kwargs)\u001b[39m\n\u001b[32m   4661\u001b[39m \u001b[38;5;28;01mdef\u001b[39;00m \u001b[34mapply\u001b[39m(\n\u001b[32m   4662\u001b[39m     \u001b[38;5;28mself\u001b[39m,\n\u001b[32m   4663\u001b[39m     func: AggFuncType,\n\u001b[32m   (...)\u001b[39m\u001b[32m   4666\u001b[39m     **kwargs,\n\u001b[32m   4667\u001b[39m ) -> DataFrame | Series:\n\u001b[32m   4668\u001b[39m \u001b[38;5;250m    \u001b[39m\u001b[33;03m\"\"\"\u001b[39;00m\n\u001b[32m   4669\u001b[39m \u001b[33;03m    Invoke function on values of Series.\u001b[39;00m\n\u001b[32m   4670\u001b[39m \n\u001b[32m   (...)\u001b[39m\u001b[32m   4769\u001b[39m \u001b[33;03m    dtype: float64\u001b[39;00m\n\u001b[32m   4770\u001b[39m \u001b[33;03m    \"\"\"\u001b[39;00m\n\u001b[32m-> \u001b[39m\u001b[32m4771\u001b[39m     \u001b[38;5;28;01mreturn\u001b[39;00m \u001b[43mSeriesApply\u001b[49m\u001b[43m(\u001b[49m\u001b[38;5;28;43mself\u001b[39;49m\u001b[43m,\u001b[49m\u001b[43m \u001b[49m\u001b[43mfunc\u001b[49m\u001b[43m,\u001b[49m\u001b[43m \u001b[49m\u001b[43mconvert_dtype\u001b[49m\u001b[43m,\u001b[49m\u001b[43m \u001b[49m\u001b[43margs\u001b[49m\u001b[43m,\u001b[49m\u001b[43m \u001b[49m\u001b[43mkwargs\u001b[49m\u001b[43m)\u001b[49m\u001b[43m.\u001b[49m\u001b[43mapply\u001b[49m\u001b[43m(\u001b[49m\u001b[43m)\u001b[49m\n",
      "\u001b[36mFile \u001b[39m\u001b[32m/usr/local/lib/python3.11/site-packages/pandas/core/apply.py:1123\u001b[39m, in \u001b[36mSeriesApply.apply\u001b[39m\u001b[34m(self)\u001b[39m\n\u001b[32m   1120\u001b[39m     \u001b[38;5;28;01mreturn\u001b[39;00m \u001b[38;5;28mself\u001b[39m.apply_str()\n\u001b[32m   1122\u001b[39m \u001b[38;5;66;03m# self.f is Callable\u001b[39;00m\n\u001b[32m-> \u001b[39m\u001b[32m1123\u001b[39m \u001b[38;5;28;01mreturn\u001b[39;00m \u001b[38;5;28;43mself\u001b[39;49m\u001b[43m.\u001b[49m\u001b[43mapply_standard\u001b[49m\u001b[43m(\u001b[49m\u001b[43m)\u001b[49m\n",
      "\u001b[36mFile \u001b[39m\u001b[32m/usr/local/lib/python3.11/site-packages/pandas/core/apply.py:1174\u001b[39m, in \u001b[36mSeriesApply.apply_standard\u001b[39m\u001b[34m(self)\u001b[39m\n\u001b[32m   1172\u001b[39m     \u001b[38;5;28;01melse\u001b[39;00m:\n\u001b[32m   1173\u001b[39m         values = obj.astype(\u001b[38;5;28mobject\u001b[39m)._values\n\u001b[32m-> \u001b[39m\u001b[32m1174\u001b[39m         mapped = \u001b[43mlib\u001b[49m\u001b[43m.\u001b[49m\u001b[43mmap_infer\u001b[49m\u001b[43m(\u001b[49m\n\u001b[32m   1175\u001b[39m \u001b[43m            \u001b[49m\u001b[43mvalues\u001b[49m\u001b[43m,\u001b[49m\n\u001b[32m   1176\u001b[39m \u001b[43m            \u001b[49m\u001b[43mf\u001b[49m\u001b[43m,\u001b[49m\n\u001b[32m   1177\u001b[39m \u001b[43m            \u001b[49m\u001b[43mconvert\u001b[49m\u001b[43m=\u001b[49m\u001b[38;5;28;43mself\u001b[39;49m\u001b[43m.\u001b[49m\u001b[43mconvert_dtype\u001b[49m\u001b[43m,\u001b[49m\n\u001b[32m   1178\u001b[39m \u001b[43m        \u001b[49m\u001b[43m)\u001b[49m\n\u001b[32m   1180\u001b[39m \u001b[38;5;28;01mif\u001b[39;00m \u001b[38;5;28mlen\u001b[39m(mapped) \u001b[38;5;129;01mand\u001b[39;00m \u001b[38;5;28misinstance\u001b[39m(mapped[\u001b[32m0\u001b[39m], ABCSeries):\n\u001b[32m   1181\u001b[39m     \u001b[38;5;66;03m# GH#43986 Need to do list(mapped) in order to get treated as nested\u001b[39;00m\n\u001b[32m   1182\u001b[39m     \u001b[38;5;66;03m#  See also GH#25959 regarding EA support\u001b[39;00m\n\u001b[32m   1183\u001b[39m     \u001b[38;5;28;01mreturn\u001b[39;00m obj._constructor_expanddim(\u001b[38;5;28mlist\u001b[39m(mapped), index=obj.index)\n",
      "\u001b[36mFile \u001b[39m\u001b[32m/usr/local/lib/python3.11/site-packages/pandas/_libs/lib.pyx:2924\u001b[39m, in \u001b[36mpandas._libs.lib.map_infer\u001b[39m\u001b[34m()\u001b[39m\n",
      "\u001b[36mCell\u001b[39m\u001b[36m \u001b[39m\u001b[32mIn[17]\u001b[39m\u001b[32m, line 4\u001b[39m, in \u001b[36msplit_name_affiliation\u001b[39m\u001b[34m(name_affiliation)\u001b[39m\n\u001b[32m      2\u001b[39m \u001b[38;5;28mprint\u001b[39m(name_affiliation)\n\u001b[32m      3\u001b[39m parts = re.split(\u001b[33mr\u001b[39m\u001b[33m'\u001b[39m\u001b[33m([a-z][A-Z])\u001b[39m\u001b[33m'\u001b[39m, name_affiliation)\n\u001b[32m----> \u001b[39m\u001b[32m4\u001b[39m middle_part = \u001b[43mparts\u001b[49m\u001b[43m[\u001b[49m\u001b[32;43m1\u001b[39;49m\u001b[43m]\u001b[49m\n\u001b[32m      5\u001b[39m \u001b[38;5;28;01mreturn\u001b[39;00m [parts[\u001b[32m0\u001b[39m].strip() + middle_part[\u001b[32m0\u001b[39m], middle_part[\u001b[32m1\u001b[39m] + parts[\u001b[32m2\u001b[39m].strip()]\n",
      "\u001b[31mIndexError\u001b[39m: list index out of range"
     ]
    }
   ],
   "source": [
    "results_df = pd.DataFrame(columns=['slug', 'date', 'name', 'time', 'gender', 'age', 'city', 'state'])\n",
    "\n",
    "for provider in race_slugs:\n",
    "    for race_slug in race_slugs[provider]:\n",
    "        file_paths = glob.glob(f'raw/marathons/{race_slug}-*.{\"json\" if provider == \"athlinks\" else \"csv\"}')\n",
    "\n",
    "        for file_path in file_paths:\n",
    "            date = '-'.join(os.path.basename(file_path).split('-')[-3:]).split('.')[0]\n",
    "            if provider == 'athlinks':\n",
    "                with open(file_path, 'r') as file:\n",
    "                    data = json.load(file)\n",
    "                results = data['intervals'][0]['results']\n",
    "                temp_df = pd.DataFrame(results)\n",
    "                temp_df['locality'] = temp_df['location'].apply(lambda x: x.get('locality', None) if x is not None else None)\n",
    "                temp_df['region'] = temp_df['location'].apply(lambda x: x.get('region', None) if x is not None else None)\n",
    "                temp_df = temp_df[['age', 'gender', 'chipTimeInMillis', 'displayName', 'locality', 'region']]\n",
    "            elif provider == 'raceentry' or provider == 'runsignup' or provider == 'brooksee':\n",
    "                temp_df = pd.read_csv(file_path)\n",
    "                if provider == 'raceentry':\n",
    "                    temp_df['name'] = temp_df['First Name'] + ' ' + temp_df['Last Name']\n",
    "                    temp_df['city'] = temp_df['City']\n",
    "                    temp_df['state'] = temp_df['State']\n",
    "                elif provider == 'runsignup':\n",
    "                    temp_df['name'] = ' '.join(temp_df['Name'].split()[1:])\n",
    "                    temp_df['city'] = temp_df['City']\n",
    "                    temp_df['state'] = temp_df['State']\n",
    "                elif provider == 'brooksee':\n",
    "                    temp_df['name'] = temp_df['First Name'] + ' ' + temp_df['Last Name']\n",
    "                    temp_df['city'] = None\n",
    "                    temp_df['state'] = None\n",
    "                temp_df = temp_df[['Age', 'Gender', 'Chip Time', 'name', 'city', 'state']]\n",
    "                temp_df['Chip Time'] = temp_df['Chip Time'].apply(conv_formatted_time_to_millis)\n",
    "            elif provider == 'ultrasignup' or (race_slug == 'super' and date.startswith('2022')) or (race_slug == 'cascade-express' and date.startswith('2023')):\n",
    "                temp_df = pd.read_csv(file_path)\n",
    "                temp_df['name'] = temp_df['first_name'] + ' ' + temp_df['last_name']\n",
    "                temp_df = temp_df[['age', 'gender', 'time_millis', 'name', 'city', 'state']]\n",
    "            elif provider == 'chronokeep':\n",
    "                temp_df = pd.read_csv(file_path)\n",
    "                temp_df['city'] = None\n",
    "                temp_df['state'] = None\n",
    "                temp_df = temp_df[['Age', 'Gender', 'Chip Time*', 'Name', 'city', 'state']]\n",
    "                temp_df['Chip Time*'] = temp_df['Chip Time*'].apply(conv_formatted_time_to_millis)\n",
    "            elif provider == 'webscorer':\n",
    "                temp_df = pd.read_csv(file_path)\n",
    "                name_affiliations = temp_df['Name Affiliation'].apply(split_name_affiliation)\n",
    "                print(name_affiliations)\n",
    "                temp_df = temp_df[['Age', 'Gender', 'Finish time \t\t\tChip time']]\n",
    "                temp_df['Finish time \t\t\tChip time'] = temp_df['Finish time \t\t\tChip time'].apply(conv_formatted_time_to_millis)\n",
    "            else:\n",
    "                continue\n",
    "\n",
    "            temp_df.columns = ['age', 'gender', 'time', 'name', 'city', 'state']\n",
    "            temp_df['slug'] = race_slug\n",
    "            temp_df['date'] = date\n",
    "            results_df = pd.concat([results_df, temp_df])\n",
    "\n",
    "results_df"
   ]
  },
  {
   "cell_type": "code",
   "execution_count": 82,
   "id": "d1efbcc5",
   "metadata": {},
   "outputs": [],
   "source": [
    "fields['\"CUT-OFF TIME\"*'] = pd.to_timedelta('00:0' + fields['\"CUT-OFF TIME\"*'])\n",
    "fields[['QUALIFIERS NOT ACCEPTED', 'FIELD SIZE']] = fields[['QUALIFIERS NOT ACCEPTED', 'FIELD SIZE']].apply(lambda col: col.str.replace(',', '').astype(int))"
   ]
  },
  {
   "cell_type": "code",
   "execution_count": 83,
   "id": "c72966ac",
   "metadata": {},
   "outputs": [],
   "source": [
    "standards[['MEN', 'WOMEN']] = standards[['MEN', 'WOMEN']].apply(lambda col: pd.to_timedelta(col.str.replace('hrs', 'hr')))"
   ]
  },
  {
   "cell_type": "code",
   "execution_count": 84,
   "id": "00d205db",
   "metadata": {},
   "outputs": [],
   "source": [
    "downhill_marathons['Net Downhill'] = downhill_marathons['Net Downhill'].str.replace(',', '').astype(int)\n",
    "downhill_marathons['Category'] = downhill_marathons['Net Downhill'].apply(lambda x: '3,000-5,999' if 3000 <= x < 6000 else '1,500-2,999')"
   ]
  },
  {
   "cell_type": "code",
   "execution_count": 77,
   "id": "45b992f7",
   "metadata": {},
   "outputs": [],
   "source": [
    "fields_to_save = fields.copy()\n",
    "fields_to_save['\"CUT-OFF TIME\"*'] = fields_to_save['\"CUT-OFF TIME\"*'].apply(lambda x: x.seconds)\n",
    "fields_to_save.columns = ['Year', 'Field Size', 'Cutoff Time (s)', 'Qualifiers Not Accepted']\n",
    "fields_to_save.to_csv('data/fields.csv', index=False)\n",
    "\n",
    "standards_to_save = standards.copy()\n",
    "standards_to_save[['MEN', 'WOMEN']] = standards_to_save[['MEN', 'WOMEN']].apply(lambda col: col.astype('str').apply(lambda x: x.split(' ')[2][1:]))\n",
    "standards_to_save.columns = ['Age Group', 'Men', 'Women']\n",
    "standards_to_save.to_csv('data/standards.csv', index=False)\n",
    "\n",
    "downhill_marathons_to_save = downhill_marathons.copy()\n",
    "downhill_marathons_to_save.sort_values(by='Net Downhill', ascending=False, inplace=True)\n",
    "downhill_marathons_to_save.columns = ['Name', 'Net Downhill (ft)', 'Year Established', 'Location', 'Category']\n",
    "downhill_marathons_to_save.to_csv('data/downhill-marathons.csv', index=False)"
   ]
  }
 ],
 "metadata": {
  "kernelspec": {
   "display_name": "Python 3",
   "language": "python",
   "name": "python3"
  },
  "language_info": {
   "codemirror_mode": {
    "name": "ipython",
    "version": 3
   },
   "file_extension": ".py",
   "mimetype": "text/x-python",
   "name": "python",
   "nbconvert_exporter": "python",
   "pygments_lexer": "ipython3",
   "version": "3.11.5"
  }
 },
 "nbformat": 4,
 "nbformat_minor": 5
}
