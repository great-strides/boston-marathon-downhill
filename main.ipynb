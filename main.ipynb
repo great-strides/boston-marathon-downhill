{
 "cells": [
  {
   "cell_type": "code",
   "execution_count": 95,
   "id": "efc611df",
   "metadata": {},
   "outputs": [],
   "source": [
    "import pandas as pd\n",
    "\n",
    "fields = pd.read_json('raw/fields-2012_2025.json')\n",
    "standards = pd.read_json('raw/standards-2020_2025.json')\n",
    "downhill_marathons = pd.read_csv('raw/downhill-marathons.csv')"
   ]
  },
  {
   "cell_type": "code",
   "execution_count": 96,
   "id": "d1efbcc5",
   "metadata": {},
   "outputs": [],
   "source": [
    "fields['\"CUT-OFF TIME\"*'] = pd.to_timedelta('00:0' + fields['\"CUT-OFF TIME\"*'])\n",
    "fields[['QUALIFIERS NOT ACCEPTED', 'FIELD SIZE']] = fields[['QUALIFIERS NOT ACCEPTED', 'FIELD SIZE']].apply(lambda col: col.str.replace(',', '').astype(int))"
   ]
  },
  {
   "cell_type": "code",
   "execution_count": 97,
   "id": "c72966ac",
   "metadata": {},
   "outputs": [],
   "source": [
    "standards[['MEN', 'WOMEN']] = standards[['MEN', 'WOMEN']].apply(lambda col: pd.to_timedelta(col.str.replace('hrs', 'hr')))"
   ]
  },
  {
   "cell_type": "code",
   "execution_count": 98,
   "id": "00d205db",
   "metadata": {},
   "outputs": [],
   "source": [
    "downhill_marathons['Net Downhill'] = downhill_marathons['Net Downhill'].str.replace(',', '').astype(int)\n",
    "downhill_marathons['Category'] = downhill_marathons['Net Downhill'].apply(lambda x: '3,000-5,999' if 3000 <= x < 6000 else '1,500-2,999')"
   ]
  },
  {
   "cell_type": "code",
   "execution_count": null,
   "id": "45b992f7",
   "metadata": {},
   "outputs": [],
   "source": [
    "fields_to_save = fields.copy()\n",
    "fields_to_save['\"CUT-OFF TIME\"*'] = fields_to_save['\"CUT-OFF TIME\"*'].apply(lambda x: x.seconds)\n",
    "fields_to_save.columns = [['Year', 'Field Size', 'Cutoff Time (s)', 'Qualifiers Not Accepted']]\n",
    "fields_to_save.to_csv('data/fields.csv', index=False)\n",
    "\n",
    "standards_to_save = standards.copy()\n",
    "standards_to_save[['MEN', 'WOMEN']] = standards_to_save[['MEN', 'WOMEN']].apply(lambda col: col.astype('str').apply(lambda x: x.split(' ')[2][1:]))\n",
    "standards_to_save.columns = [['Age Group', 'Men', 'Women']]\n",
    "standards_to_save.to_csv('data/standards.csv', index=False)\n",
    "\n",
    "downhill_marathons_to_save = downhill_marathons.copy()\n",
    "downhill_marathons_to_save.sort_values(by='Net Downhill', ascending=False, inplace=True)\n",
    "downhill_marathons_to_save.columns = [['Name', 'Net Downhill (ft)', 'Category']]\n",
    "downhill_marathons_to_save.to_csv('data/downhill-marathons.csv', index=False)"
   ]
  }
 ],
 "metadata": {
  "kernelspec": {
   "display_name": "Python 3",
   "language": "python",
   "name": "python3"
  },
  "language_info": {
   "codemirror_mode": {
    "name": "ipython",
    "version": 3
   },
   "file_extension": ".py",
   "mimetype": "text/x-python",
   "name": "python",
   "nbconvert_exporter": "python",
   "pygments_lexer": "ipython3",
   "version": "3.11.5"
  }
 },
 "nbformat": 4,
 "nbformat_minor": 5
}
